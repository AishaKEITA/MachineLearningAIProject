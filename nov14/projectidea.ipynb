{
 "cells": [
  {
   "attachments": {},
   "cell_type": "markdown",
   "metadata": {},
   "source": [
    "<h1>What problem are you trying to solve?</h1>\n",
    "The problem I am  trying to solve is predict a stock price"
   ]
  },
  {
   "attachments": {},
   "cell_type": "markdown",
   "metadata": {},
   "source": [
    "<h1> The problem </h1>\n",
    "The purpose of this project is to understand how the stock market generally work as well as do some predictions."
   ]
  }
 ],
 "metadata": {
  "language_info": {
   "name": "python"
  },
  "orig_nbformat": 4
 },
 "nbformat": 4,
 "nbformat_minor": 2
}
