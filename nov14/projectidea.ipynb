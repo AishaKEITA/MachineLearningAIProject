{
 "cells": [
  {
   "attachments": {},
   "cell_type": "markdown",
   "metadata": {},
   "source": [
    "<h1>Project drscription</h1>\n",
    "Predict a stock price"
   ]
  },
  {
   "attachments": {},
   "cell_type": "markdown",
   "metadata": {},
   "source": [
    "<h1> The purpose</h1>\n",
    "The purpose of this project is to understand how the stock market generally work as well as do some predictions."
   ]
  },
  {
   "attachments": {},
   "cell_type": "markdown",
   "metadata": {},
   "source": [
    "<h1> The problem</h1>\n",
    "The problem is to understand how the stock market works, to predict, and to see trends."
   ]
  }
 ],
 "metadata": {
  "language_info": {
   "name": "python"
  },
  "orig_nbformat": 4
 },
 "nbformat": 4,
 "nbformat_minor": 2
}
