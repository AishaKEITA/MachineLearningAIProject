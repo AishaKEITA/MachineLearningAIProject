{
 "cells": [
  {
   "attachments": {},
   "cell_type": "markdown",
   "metadata": {},
   "source": [
    "<h1>Project drscription</h1>\n",
    "Predict a stock price"
   ]
  },
  {
   "attachments": {},
   "cell_type": "markdown",
   "metadata": {},
   "source": [
    "<h1> The purpose</h1>\n",
    "The purpose of this project is to understand how the stock market generally works as well as do some predictions."
   ]
  },
  {
   "attachments": {},
   "cell_type": "markdown",
   "metadata": {},
   "source": [
    "<h1> The problem</h1>\n",
    "The problem is to understand how the stock market works, to predict, and to see trends.\n",
    "The problem this project is trying to solve is a classification problem.\n",
    "\n",
    "The project would also look into the following questions:\n",
    "\n",
    "    - Is your data labeled (so you have ready answers to feed your model with during training)?\n",
    "    -If not, how should you get it? \n",
    "    - Should you create labels yourself or do you want to try using unsupervised learning (works well on classification problems but not regression problems)?\n",
    "    - Do you want to work with Reinforcement Learning and deep neural networks instead?"
   ]
  },
  {
   "attachments": {},
   "cell_type": "markdown",
   "metadata": {},
   "source": [
    "<h1>Data that can help solve the problem</h1>\n",
    "The data used in this project would be from market data of yahoo finance with python\n",
    "upon getting the data the following would be checked:\n",
    "\n",
    "    - Is the data complete?\n",
    "    - Do you have null values?\n",
    "    - Do you have extreme values?\n",
    "    - What data type do you have? \n",
    "    - Which fields in your data set do you want to use? data format?"
   ]
  },
  {
   "attachments": {},
   "cell_type": "markdown",
   "metadata": {},
   "source": [
    "<h1> What the project want to achieve?</h1>\n",
    "The project want to be able to predict, see trends in the stock market. For that reason the following questions would be deeply look into:\n",
    "\n",
    "        - How should the data be structured?\n",
    "        - How should you interpret reward/punishment system look like? (not sure the project will use that since this will be  a classification problem)\n",
    "        - How should you interpret the output you get from the network? \n",
    "        - Which training platform do you want to use to train your network?"
   ]
  },
  {
   "attachments": {},
   "cell_type": "markdown",
   "metadata": {},
   "source": [
    "<h1> Documentation </h1>\n",
    "As listed above the project will look into details according to the questions that I am trying to solve and the answer that I want arrive at. The dataset, columns, row, and the quality of the data."
   ]
  }
 ],
 "metadata": {
  "kernelspec": {
   "display_name": ".env",
   "language": "python",
   "name": "python3"
  },
  "language_info": {
   "name": "python",
   "version": "3.10.9 (tags/v3.10.9:1dd9be6, Dec  6 2022, 20:01:21) [MSC v.1934 64 bit (AMD64)]"
  },
  "orig_nbformat": 4,
  "vscode": {
   "interpreter": {
    "hash": "c616ac138ad278690492550aaa2ae33f32d241b9d727096f35816a1bb50d715a"
   }
  }
 },
 "nbformat": 4,
 "nbformat_minor": 2
}
